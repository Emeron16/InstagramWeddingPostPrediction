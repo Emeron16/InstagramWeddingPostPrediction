{
 "cells": [
  {
   "cell_type": "code",
   "execution_count": 1,
   "id": "5f5b2ce1",
   "metadata": {},
   "outputs": [],
   "source": [
    "import pandas as pd\n",
    "import numpy as np\n",
    "import matplotlib.pyplot as plt\n",
    "import seaborn as sns"
   ]
  },
  {
   "cell_type": "code",
   "execution_count": 2,
   "id": "11e363d1",
   "metadata": {},
   "outputs": [
    {
     "name": "stdout",
     "output_type": "stream",
     "text": [
      "<class 'pandas.core.frame.DataFrame'>\n",
      "Index: 4132 entries, 0 to 4146\n",
      "Data columns (total 17 columns):\n",
      " #   Column            Non-Null Count  Dtype  \n",
      "---  ------            --------------  -----  \n",
      " 0   caption           4132 non-null   object \n",
      " 1   commentsCount     4132 non-null   int64  \n",
      " 2   dimensionsHeight  4132 non-null   int64  \n",
      " 3   dimensionsWidth   4132 non-null   int64  \n",
      " 4   hashtags/0        4132 non-null   object \n",
      " 5   hashtags/1        4132 non-null   object \n",
      " 6   hashtags/2        4132 non-null   object \n",
      " 7   likesCount        4132 non-null   float64\n",
      " 8   ownerId           4132 non-null   int64  \n",
      " 9   productType       4132 non-null   object \n",
      " 10  timestamp         4132 non-null   object \n",
      " 11  type              4132 non-null   object \n",
      " 12  day_of_week       4132 non-null   object \n",
      " 13  popularity_index  4132 non-null   float64\n",
      " 14  season            4132 non-null   object \n",
      " 15  hour_of_day       4132 non-null   int64  \n",
      " 16  month_of_year     4132 non-null   int64  \n",
      "dtypes: float64(2), int64(6), object(9)\n",
      "memory usage: 581.1+ KB\n"
     ]
    }
   ],
   "source": [
    "df = pd.read_csv('/Users/emeronmarcelle/Library/CloudStorage/OneDrive-Personal/Jupyter Notebook/AJ/Data_Preprocessing/filtered_IG_data6.csv', index_col= 0)\n",
    "df.info()"
   ]
  },
  {
   "cell_type": "code",
   "execution_count": 4,
   "id": "ac5e117d",
   "metadata": {},
   "outputs": [
    {
     "data": {
      "text/html": [
       "<div>\n",
       "<style scoped>\n",
       "    .dataframe tbody tr th:only-of-type {\n",
       "        vertical-align: middle;\n",
       "    }\n",
       "\n",
       "    .dataframe tbody tr th {\n",
       "        vertical-align: top;\n",
       "    }\n",
       "\n",
       "    .dataframe thead th {\n",
       "        text-align: right;\n",
       "    }\n",
       "</style>\n",
       "<table border=\"1\" class=\"dataframe\">\n",
       "  <thead>\n",
       "    <tr style=\"text-align: right;\">\n",
       "      <th></th>\n",
       "      <th>caption</th>\n",
       "      <th>coauthorProducers/0/full_name</th>\n",
       "      <th>coauthorProducers/0/id</th>\n",
       "      <th>coauthorProducers/0/is_private</th>\n",
       "      <th>coauthorProducers/0/is_verified</th>\n",
       "      <th>coauthorProducers/0/pk</th>\n",
       "      <th>coauthorProducers/0/profile_pic_id</th>\n",
       "      <th>coauthorProducers/0/profile_pic_url</th>\n",
       "      <th>coauthorProducers/0/username</th>\n",
       "      <th>commentsCount</th>\n",
       "      <th>...</th>\n",
       "      <th>taggedUsers/12/user/full_name</th>\n",
       "      <th>taggedUsers/12/user/id</th>\n",
       "      <th>taggedUsers/12/user/is_private</th>\n",
       "      <th>taggedUsers/12/user/is_verified</th>\n",
       "      <th>taggedUsers/12/user/profile_pic_id</th>\n",
       "      <th>taggedUsers/12/user/profile_pic_url</th>\n",
       "      <th>taggedUsers/12/user/username</th>\n",
       "      <th>childPosts/1/videoDuration</th>\n",
       "      <th>childPosts/1/videoUrl</th>\n",
       "      <th>childPosts/2/videoUrl</th>\n",
       "    </tr>\n",
       "  </thead>\n",
       "  <tbody>\n",
       "    <tr>\n",
       "      <th>0</th>\n",
       "      <td>Vintage Wilton: @HansWestermark created this g...</td>\n",
       "      <td>Hans Westermark</td>\n",
       "      <td>1484676.0</td>\n",
       "      <td>False</td>\n",
       "      <td>False</td>\n",
       "      <td>1484676.0</td>\n",
       "      <td>3065246099369238496_1484676</td>\n",
       "      <td>https://scontent-ams2-1.cdninstagram.com/v/t51...</td>\n",
       "      <td>hanswestermark</td>\n",
       "      <td>39</td>\n",
       "      <td>...</td>\n",
       "      <td>NaN</td>\n",
       "      <td>NaN</td>\n",
       "      <td>NaN</td>\n",
       "      <td>NaN</td>\n",
       "      <td>NaN</td>\n",
       "      <td>NaN</td>\n",
       "      <td>NaN</td>\n",
       "      <td>NaN</td>\n",
       "      <td>NaN</td>\n",
       "      <td>NaN</td>\n",
       "    </tr>\n",
       "    <tr>\n",
       "      <th>1</th>\n",
       "      <td>HAPPY NEW YEAR ♥️♥️♥️\\nMerci pour cette année ...</td>\n",
       "      <td>NaN</td>\n",
       "      <td>NaN</td>\n",
       "      <td>NaN</td>\n",
       "      <td>NaN</td>\n",
       "      <td>NaN</td>\n",
       "      <td>NaN</td>\n",
       "      <td>NaN</td>\n",
       "      <td>NaN</td>\n",
       "      <td>54</td>\n",
       "      <td>...</td>\n",
       "      <td>NaN</td>\n",
       "      <td>NaN</td>\n",
       "      <td>NaN</td>\n",
       "      <td>NaN</td>\n",
       "      <td>NaN</td>\n",
       "      <td>NaN</td>\n",
       "      <td>NaN</td>\n",
       "      <td>NaN</td>\n",
       "      <td>NaN</td>\n",
       "      <td>NaN</td>\n",
       "    </tr>\n",
       "    <tr>\n",
       "      <th>2</th>\n",
       "      <td>Я умею работать в любых условиях)\\nСамое главн...</td>\n",
       "      <td>NaN</td>\n",
       "      <td>NaN</td>\n",
       "      <td>NaN</td>\n",
       "      <td>NaN</td>\n",
       "      <td>NaN</td>\n",
       "      <td>NaN</td>\n",
       "      <td>NaN</td>\n",
       "      <td>NaN</td>\n",
       "      <td>20</td>\n",
       "      <td>...</td>\n",
       "      <td>NaN</td>\n",
       "      <td>NaN</td>\n",
       "      <td>NaN</td>\n",
       "      <td>NaN</td>\n",
       "      <td>NaN</td>\n",
       "      <td>NaN</td>\n",
       "      <td>NaN</td>\n",
       "      <td>NaN</td>\n",
       "      <td>NaN</td>\n",
       "      <td>NaN</td>\n",
       "    </tr>\n",
       "    <tr>\n",
       "      <th>3</th>\n",
       "      <td>That didn’t go as planned \\n\\n@katyaa_golden</td>\n",
       "      <td>NaN</td>\n",
       "      <td>NaN</td>\n",
       "      <td>NaN</td>\n",
       "      <td>NaN</td>\n",
       "      <td>NaN</td>\n",
       "      <td>NaN</td>\n",
       "      <td>NaN</td>\n",
       "      <td>NaN</td>\n",
       "      <td>49</td>\n",
       "      <td>...</td>\n",
       "      <td>NaN</td>\n",
       "      <td>NaN</td>\n",
       "      <td>NaN</td>\n",
       "      <td>NaN</td>\n",
       "      <td>NaN</td>\n",
       "      <td>NaN</td>\n",
       "      <td>NaN</td>\n",
       "      <td>NaN</td>\n",
       "      <td>NaN</td>\n",
       "      <td>NaN</td>\n",
       "    </tr>\n",
       "    <tr>\n",
       "      <th>4</th>\n",
       "      <td>Dolci momenti che rendono le feste ancora più ...</td>\n",
       "      <td>NaN</td>\n",
       "      <td>NaN</td>\n",
       "      <td>NaN</td>\n",
       "      <td>NaN</td>\n",
       "      <td>NaN</td>\n",
       "      <td>NaN</td>\n",
       "      <td>NaN</td>\n",
       "      <td>NaN</td>\n",
       "      <td>19</td>\n",
       "      <td>...</td>\n",
       "      <td>NaN</td>\n",
       "      <td>NaN</td>\n",
       "      <td>NaN</td>\n",
       "      <td>NaN</td>\n",
       "      <td>NaN</td>\n",
       "      <td>NaN</td>\n",
       "      <td>NaN</td>\n",
       "      <td>NaN</td>\n",
       "      <td>NaN</td>\n",
       "      <td>NaN</td>\n",
       "    </tr>\n",
       "    <tr>\n",
       "      <th>5</th>\n",
       "      <td>با آرزوی خوشبختی برای عروس و داماد عزیزم \\n#مت...</td>\n",
       "      <td>NaN</td>\n",
       "      <td>NaN</td>\n",
       "      <td>NaN</td>\n",
       "      <td>NaN</td>\n",
       "      <td>NaN</td>\n",
       "      <td>NaN</td>\n",
       "      <td>NaN</td>\n",
       "      <td>NaN</td>\n",
       "      <td>26</td>\n",
       "      <td>...</td>\n",
       "      <td>NaN</td>\n",
       "      <td>NaN</td>\n",
       "      <td>NaN</td>\n",
       "      <td>NaN</td>\n",
       "      <td>NaN</td>\n",
       "      <td>NaN</td>\n",
       "      <td>NaN</td>\n",
       "      <td>NaN</td>\n",
       "      <td>NaN</td>\n",
       "      <td>NaN</td>\n",
       "    </tr>\n",
       "    <tr>\n",
       "      <th>6</th>\n",
       "      <td>2024: Baked. Decorated. Devoured. \\n\\nThis yea...</td>\n",
       "      <td>NaN</td>\n",
       "      <td>NaN</td>\n",
       "      <td>NaN</td>\n",
       "      <td>NaN</td>\n",
       "      <td>NaN</td>\n",
       "      <td>NaN</td>\n",
       "      <td>NaN</td>\n",
       "      <td>NaN</td>\n",
       "      <td>1</td>\n",
       "      <td>...</td>\n",
       "      <td>NaN</td>\n",
       "      <td>NaN</td>\n",
       "      <td>NaN</td>\n",
       "      <td>NaN</td>\n",
       "      <td>NaN</td>\n",
       "      <td>NaN</td>\n",
       "      <td>NaN</td>\n",
       "      <td>NaN</td>\n",
       "      <td>NaN</td>\n",
       "      <td>NaN</td>\n",
       "    </tr>\n",
       "    <tr>\n",
       "      <th>7</th>\n",
       "      <td>.\\n.\\n.\\n\\n..\\n\\n.\\n#cakecake #domecale #cake ...</td>\n",
       "      <td>NaN</td>\n",
       "      <td>NaN</td>\n",
       "      <td>NaN</td>\n",
       "      <td>NaN</td>\n",
       "      <td>NaN</td>\n",
       "      <td>NaN</td>\n",
       "      <td>NaN</td>\n",
       "      <td>NaN</td>\n",
       "      <td>10</td>\n",
       "      <td>...</td>\n",
       "      <td>NaN</td>\n",
       "      <td>NaN</td>\n",
       "      <td>NaN</td>\n",
       "      <td>NaN</td>\n",
       "      <td>NaN</td>\n",
       "      <td>NaN</td>\n",
       "      <td>NaN</td>\n",
       "      <td>NaN</td>\n",
       "      <td>NaN</td>\n",
       "      <td>NaN</td>\n",
       "    </tr>\n",
       "    <tr>\n",
       "      <th>8</th>\n",
       "      <td>#HappeningNow in #Qatar ✨️ A night straight ou...</td>\n",
       "      <td>NaN</td>\n",
       "      <td>NaN</td>\n",
       "      <td>NaN</td>\n",
       "      <td>NaN</td>\n",
       "      <td>NaN</td>\n",
       "      <td>NaN</td>\n",
       "      <td>NaN</td>\n",
       "      <td>NaN</td>\n",
       "      <td>87</td>\n",
       "      <td>...</td>\n",
       "      <td>Riman Planner</td>\n",
       "      <td>4.507394e+10</td>\n",
       "      <td>False</td>\n",
       "      <td>False</td>\n",
       "      <td>3432457348494883349_45073935374</td>\n",
       "      <td>https://scontent-ams2-1.cdninstagram.com/v/t51...</td>\n",
       "      <td>rimanplanner</td>\n",
       "      <td>NaN</td>\n",
       "      <td>NaN</td>\n",
       "      <td>NaN</td>\n",
       "    </tr>\n",
       "    <tr>\n",
       "      <th>9</th>\n",
       "      <td>❄️️\\n\\n♡\\n\\n#vintagecake #lambethcake #bespoke...</td>\n",
       "      <td>NaN</td>\n",
       "      <td>NaN</td>\n",
       "      <td>NaN</td>\n",
       "      <td>NaN</td>\n",
       "      <td>NaN</td>\n",
       "      <td>NaN</td>\n",
       "      <td>NaN</td>\n",
       "      <td>NaN</td>\n",
       "      <td>2</td>\n",
       "      <td>...</td>\n",
       "      <td>NaN</td>\n",
       "      <td>NaN</td>\n",
       "      <td>NaN</td>\n",
       "      <td>NaN</td>\n",
       "      <td>NaN</td>\n",
       "      <td>NaN</td>\n",
       "      <td>NaN</td>\n",
       "      <td>NaN</td>\n",
       "      <td>NaN</td>\n",
       "      <td>NaN</td>\n",
       "    </tr>\n",
       "  </tbody>\n",
       "</table>\n",
       "<p>10 rows × 624 columns</p>\n",
       "</div>"
      ],
      "text/plain": [
       "                                             caption  \\\n",
       "0  Vintage Wilton: @HansWestermark created this g...   \n",
       "1  HAPPY NEW YEAR ♥️♥️♥️\\nMerci pour cette année ...   \n",
       "2  Я умею работать в любых условиях)\\nСамое главн...   \n",
       "3       That didn’t go as planned \\n\\n@katyaa_golden   \n",
       "4  Dolci momenti che rendono le feste ancora più ...   \n",
       "5  با آرزوی خوشبختی برای عروس و داماد عزیزم \\n#مت...   \n",
       "6  2024: Baked. Decorated. Devoured. \\n\\nThis yea...   \n",
       "7  .\\n.\\n.\\n\\n..\\n\\n.\\n#cakecake #domecale #cake ...   \n",
       "8  #HappeningNow in #Qatar ✨️ A night straight ou...   \n",
       "9  ❄️️\\n\\n♡\\n\\n#vintagecake #lambethcake #bespoke...   \n",
       "\n",
       "  coauthorProducers/0/full_name  coauthorProducers/0/id  \\\n",
       "0               Hans Westermark               1484676.0   \n",
       "1                           NaN                     NaN   \n",
       "2                           NaN                     NaN   \n",
       "3                           NaN                     NaN   \n",
       "4                           NaN                     NaN   \n",
       "5                           NaN                     NaN   \n",
       "6                           NaN                     NaN   \n",
       "7                           NaN                     NaN   \n",
       "8                           NaN                     NaN   \n",
       "9                           NaN                     NaN   \n",
       "\n",
       "  coauthorProducers/0/is_private coauthorProducers/0/is_verified  \\\n",
       "0                          False                           False   \n",
       "1                            NaN                             NaN   \n",
       "2                            NaN                             NaN   \n",
       "3                            NaN                             NaN   \n",
       "4                            NaN                             NaN   \n",
       "5                            NaN                             NaN   \n",
       "6                            NaN                             NaN   \n",
       "7                            NaN                             NaN   \n",
       "8                            NaN                             NaN   \n",
       "9                            NaN                             NaN   \n",
       "\n",
       "   coauthorProducers/0/pk coauthorProducers/0/profile_pic_id  \\\n",
       "0               1484676.0        3065246099369238496_1484676   \n",
       "1                     NaN                                NaN   \n",
       "2                     NaN                                NaN   \n",
       "3                     NaN                                NaN   \n",
       "4                     NaN                                NaN   \n",
       "5                     NaN                                NaN   \n",
       "6                     NaN                                NaN   \n",
       "7                     NaN                                NaN   \n",
       "8                     NaN                                NaN   \n",
       "9                     NaN                                NaN   \n",
       "\n",
       "                 coauthorProducers/0/profile_pic_url  \\\n",
       "0  https://scontent-ams2-1.cdninstagram.com/v/t51...   \n",
       "1                                                NaN   \n",
       "2                                                NaN   \n",
       "3                                                NaN   \n",
       "4                                                NaN   \n",
       "5                                                NaN   \n",
       "6                                                NaN   \n",
       "7                                                NaN   \n",
       "8                                                NaN   \n",
       "9                                                NaN   \n",
       "\n",
       "  coauthorProducers/0/username  commentsCount  ...  \\\n",
       "0               hanswestermark             39  ...   \n",
       "1                          NaN             54  ...   \n",
       "2                          NaN             20  ...   \n",
       "3                          NaN             49  ...   \n",
       "4                          NaN             19  ...   \n",
       "5                          NaN             26  ...   \n",
       "6                          NaN              1  ...   \n",
       "7                          NaN             10  ...   \n",
       "8                          NaN             87  ...   \n",
       "9                          NaN              2  ...   \n",
       "\n",
       "   taggedUsers/12/user/full_name  taggedUsers/12/user/id  \\\n",
       "0                            NaN                     NaN   \n",
       "1                            NaN                     NaN   \n",
       "2                            NaN                     NaN   \n",
       "3                            NaN                     NaN   \n",
       "4                            NaN                     NaN   \n",
       "5                            NaN                     NaN   \n",
       "6                            NaN                     NaN   \n",
       "7                            NaN                     NaN   \n",
       "8                  Riman Planner            4.507394e+10   \n",
       "9                            NaN                     NaN   \n",
       "\n",
       "  taggedUsers/12/user/is_private  taggedUsers/12/user/is_verified  \\\n",
       "0                            NaN                              NaN   \n",
       "1                            NaN                              NaN   \n",
       "2                            NaN                              NaN   \n",
       "3                            NaN                              NaN   \n",
       "4                            NaN                              NaN   \n",
       "5                            NaN                              NaN   \n",
       "6                            NaN                              NaN   \n",
       "7                            NaN                              NaN   \n",
       "8                          False                            False   \n",
       "9                            NaN                              NaN   \n",
       "\n",
       "  taggedUsers/12/user/profile_pic_id  \\\n",
       "0                                NaN   \n",
       "1                                NaN   \n",
       "2                                NaN   \n",
       "3                                NaN   \n",
       "4                                NaN   \n",
       "5                                NaN   \n",
       "6                                NaN   \n",
       "7                                NaN   \n",
       "8    3432457348494883349_45073935374   \n",
       "9                                NaN   \n",
       "\n",
       "                 taggedUsers/12/user/profile_pic_url  \\\n",
       "0                                                NaN   \n",
       "1                                                NaN   \n",
       "2                                                NaN   \n",
       "3                                                NaN   \n",
       "4                                                NaN   \n",
       "5                                                NaN   \n",
       "6                                                NaN   \n",
       "7                                                NaN   \n",
       "8  https://scontent-ams2-1.cdninstagram.com/v/t51...   \n",
       "9                                                NaN   \n",
       "\n",
       "  taggedUsers/12/user/username childPosts/1/videoDuration  \\\n",
       "0                          NaN                        NaN   \n",
       "1                          NaN                        NaN   \n",
       "2                          NaN                        NaN   \n",
       "3                          NaN                        NaN   \n",
       "4                          NaN                        NaN   \n",
       "5                          NaN                        NaN   \n",
       "6                          NaN                        NaN   \n",
       "7                          NaN                        NaN   \n",
       "8                 rimanplanner                        NaN   \n",
       "9                          NaN                        NaN   \n",
       "\n",
       "  childPosts/1/videoUrl childPosts/2/videoUrl  \n",
       "0                   NaN                   NaN  \n",
       "1                   NaN                   NaN  \n",
       "2                   NaN                   NaN  \n",
       "3                   NaN                   NaN  \n",
       "4                   NaN                   NaN  \n",
       "5                   NaN                   NaN  \n",
       "6                   NaN                   NaN  \n",
       "7                   NaN                   NaN  \n",
       "8                   NaN                   NaN  \n",
       "9                   NaN                   NaN  \n",
       "\n",
       "[10 rows x 624 columns]"
      ]
     },
     "execution_count": 4,
     "metadata": {},
     "output_type": "execute_result"
    }
   ],
   "source": [
    "df.head(10)"
   ]
  },
  {
   "cell_type": "code",
   "execution_count": 9,
   "id": "b51c0d07",
   "metadata": {},
   "outputs": [],
   "source": [
    "df2 = pd.read_excel('/Users/emeronmarcelle/Library/CloudStorage/OneDrive-Personal/Jupyter Notebook/AJ/Data Collection/dataset_instagram-scraper_2025-02-11_19-29-54-851.xlsx',\n",
    "                    index_col = 0)\n",
    "df2.reset_index(inplace = True)                    "
   ]
  },
  {
   "cell_type": "code",
   "execution_count": 10,
   "id": "89136641",
   "metadata": {},
   "outputs": [
    {
     "data": {
      "text/plain": [
       "(1730, 540)"
      ]
     },
     "execution_count": 10,
     "metadata": {},
     "output_type": "execute_result"
    }
   ],
   "source": [
    "df2.shape"
   ]
  },
  {
   "cell_type": "markdown",
   "id": "9c5f9a34",
   "metadata": {},
   "source": [
    "# Filtered DF"
   ]
  },
  {
   "cell_type": "code",
   "execution_count": 11,
   "id": "fe10cb43",
   "metadata": {},
   "outputs": [
    {
     "name": "stdout",
     "output_type": "stream",
     "text": [
      "<class 'pandas.core.frame.DataFrame'>\n",
      "RangeIndex: 1730 entries, 0 to 1729\n",
      "Data columns (total 20 columns):\n",
      " #   Column            Non-Null Count  Dtype  \n",
      "---  ------            --------------  -----  \n",
      " 0   caption           1727 non-null   object \n",
      " 1   commentsCount     1730 non-null   int64  \n",
      " 2   dimensionsHeight  1730 non-null   int64  \n",
      " 3   dimensionsWidth   1730 non-null   int64  \n",
      " 4   displayUrl        1730 non-null   object \n",
      " 5   hashtags/0        1603 non-null   object \n",
      " 6   hashtags/1        1582 non-null   object \n",
      " 7   hashtags/2        1562 non-null   object \n",
      " 8   hashtags/3        1532 non-null   object \n",
      " 9   hashtags/4        1510 non-null   object \n",
      " 10  id                1730 non-null   int64  \n",
      " 11  inputUrl          1730 non-null   object \n",
      " 12  isSponsored       1730 non-null   bool   \n",
      " 13  likesCount        1727 non-null   float64\n",
      " 14  ownerId           1730 non-null   int64  \n",
      " 15  productType       1730 non-null   object \n",
      " 16  shortCode         1730 non-null   object \n",
      " 17  timestamp         1730 non-null   object \n",
      " 18  type              1730 non-null   object \n",
      " 19  url               1730 non-null   object \n",
      "dtypes: bool(1), float64(1), int64(5), object(13)\n",
      "memory usage: 258.6+ KB\n"
     ]
    }
   ],
   "source": [
    "# Count non-null values per column\n",
    "non_null_counts = df2.notna().sum()\n",
    "\n",
    "# Filter columns where the count of non-null values is >= 2000\n",
    "columns_to_keep = non_null_counts[non_null_counts >= 1500].index\n",
    "\n",
    "# Update the DataFrame to keep only the filtered columns\n",
    "filtered_df = df2[columns_to_keep]\n",
    "filtered_df.info()"
   ]
  },
  {
   "cell_type": "code",
   "execution_count": 59,
   "id": "cccb9017",
   "metadata": {},
   "outputs": [
    {
     "name": "stdout",
     "output_type": "stream",
     "text": [
      "<class 'pandas.core.frame.DataFrame'>\n",
      "RangeIndex: 1727 entries, 0 to 1726\n",
      "Data columns (total 20 columns):\n",
      " #   Column            Non-Null Count  Dtype \n",
      "---  ------            --------------  ----- \n",
      " 0   caption           1726 non-null   object\n",
      " 1   commentsCount     1727 non-null   int64 \n",
      " 2   dimensionsHeight  1727 non-null   int64 \n",
      " 3   dimensionsWidth   1727 non-null   int64 \n",
      " 4   displayUrl        1727 non-null   object\n",
      " 5   hashtags/0        1553 non-null   object\n",
      " 6   hashtags/1        1527 non-null   object\n",
      " 7   hashtags/2        1509 non-null   object\n",
      " 8   id                1727 non-null   int64 \n",
      " 9   inputUrl          1727 non-null   object\n",
      " 10  isSponsored       1727 non-null   bool  \n",
      " 11  likesCount        1727 non-null   int64 \n",
      " 12  ownerFullName     1703 non-null   object\n",
      " 13  ownerId           1727 non-null   int64 \n",
      " 14  ownerUsername     1727 non-null   object\n",
      " 15  productType       1727 non-null   object\n",
      " 16  shortCode         1727 non-null   object\n",
      " 17  timestamp         1727 non-null   object\n",
      " 18  type              1727 non-null   object\n",
      " 19  url               1727 non-null   object\n",
      "dtypes: bool(1), int64(6), object(13)\n",
      "memory usage: 258.2+ KB\n"
     ]
    }
   ],
   "source": [
    "# Count non-null values per column\n",
    "non_null_counts2 = df2.notna().sum()\n",
    "\n",
    "# Filter columns where the count of non-null values is >= 2000\n",
    "columns_to_keep2 = non_null_counts2[non_null_counts2 >= 1500].index\n",
    "\n",
    "# Update the DataFrame to keep only the filtered columns\n",
    "filtered_df2 = df2[columns_to_keep2]\n",
    "filtered_df2.reset_index(inplace=True)\n",
    "filtered_df2.info()"
   ]
  },
  {
   "cell_type": "code",
   "execution_count": 16,
   "id": "d32f3018",
   "metadata": {},
   "outputs": [
    {
     "name": "stderr",
     "output_type": "stream",
     "text": [
      "/var/folders/yp/nnhfbx9n055106j0nvvkcwlr0000gn/T/ipykernel_51350/528788952.py:3: SettingWithCopyWarning: \n",
      "A value is trying to be set on a copy of a slice from a DataFrame\n",
      "\n",
      "See the caveats in the documentation: https://pandas.pydata.org/pandas-docs/stable/user_guide/indexing.html#returning-a-view-versus-a-copy\n",
      "  filtered_df.drop(columns = [\"isSponsored\",\n"
     ]
    }
   ],
   "source": [
    "# Remove following rows\n",
    "#isSponsored, displayUrl, ownerUsername, shortCode, 'ownerFullName',\"ownerUsername\",\"hashtags/3\", 'hashtags/4'\n",
    "filtered_df.drop(columns = [\"isSponsored\",\n",
    "                            \"displayUrl\",  \"shortCode\",\"inputUrl\",\"url\"], axis=1, inplace = True)"
   ]
  },
  {
   "cell_type": "code",
   "execution_count": 21,
   "id": "cb1aedbc",
   "metadata": {},
   "outputs": [
    {
     "name": "stderr",
     "output_type": "stream",
     "text": [
      "/var/folders/yp/nnhfbx9n055106j0nvvkcwlr0000gn/T/ipykernel_51350/1986191899.py:1: SettingWithCopyWarning: \n",
      "A value is trying to be set on a copy of a slice from a DataFrame\n",
      "\n",
      "See the caveats in the documentation: https://pandas.pydata.org/pandas-docs/stable/user_guide/indexing.html#returning-a-view-versus-a-copy\n",
      "  filtered_df.drop(columns= ['ownerId' ], inplace = True)\n"
     ]
    }
   ],
   "source": [
    "filtered_df.drop(columns= ['ownerId' ], inplace = True)"
   ]
  },
  {
   "cell_type": "code",
   "execution_count": 22,
   "id": "67dcf23e",
   "metadata": {},
   "outputs": [
    {
     "name": "stdout",
     "output_type": "stream",
     "text": [
      "<class 'pandas.core.frame.DataFrame'>\n",
      "RangeIndex: 1730 entries, 0 to 1729\n",
      "Data columns (total 12 columns):\n",
      " #   Column            Non-Null Count  Dtype  \n",
      "---  ------            --------------  -----  \n",
      " 0   caption           1727 non-null   object \n",
      " 1   commentsCount     1730 non-null   int64  \n",
      " 2   dimensionsHeight  1730 non-null   int64  \n",
      " 3   dimensionsWidth   1730 non-null   int64  \n",
      " 4   hashtags/0        1603 non-null   object \n",
      " 5   hashtags/1        1582 non-null   object \n",
      " 6   hashtags/2        1562 non-null   object \n",
      " 7   id                1730 non-null   int64  \n",
      " 8   likesCount        1727 non-null   float64\n",
      " 9   productType       1730 non-null   object \n",
      " 10  timestamp         1730 non-null   object \n",
      " 11  type              1730 non-null   object \n",
      "dtypes: float64(1), int64(4), object(7)\n",
      "memory usage: 162.3+ KB\n"
     ]
    }
   ],
   "source": [
    "filtered_df.info()"
   ]
  },
  {
   "cell_type": "code",
   "execution_count": 23,
   "id": "3bada143",
   "metadata": {},
   "outputs": [
    {
     "data": {
      "text/html": [
       "<div>\n",
       "<style scoped>\n",
       "    .dataframe tbody tr th:only-of-type {\n",
       "        vertical-align: middle;\n",
       "    }\n",
       "\n",
       "    .dataframe tbody tr th {\n",
       "        vertical-align: top;\n",
       "    }\n",
       "\n",
       "    .dataframe thead th {\n",
       "        text-align: right;\n",
       "    }\n",
       "</style>\n",
       "<table border=\"1\" class=\"dataframe\">\n",
       "  <thead>\n",
       "    <tr style=\"text-align: right;\">\n",
       "      <th></th>\n",
       "      <th>caption</th>\n",
       "      <th>commentsCount</th>\n",
       "      <th>dimensionsHeight</th>\n",
       "      <th>dimensionsWidth</th>\n",
       "      <th>hashtags/0</th>\n",
       "      <th>hashtags/1</th>\n",
       "      <th>hashtags/2</th>\n",
       "      <th>id</th>\n",
       "      <th>likesCount</th>\n",
       "      <th>productType</th>\n",
       "      <th>timestamp</th>\n",
       "      <th>type</th>\n",
       "    </tr>\n",
       "  </thead>\n",
       "  <tbody>\n",
       "    <tr>\n",
       "      <th>0</th>\n",
       "      <td>Serving looks, love, loyalty with a spectacula...</td>\n",
       "      <td>9</td>\n",
       "      <td>1280</td>\n",
       "      <td>720</td>\n",
       "      <td>blackbride</td>\n",
       "      <td>blackbride1998</td>\n",
       "      <td>multicultural</td>\n",
       "      <td>3564435232377280845</td>\n",
       "      <td>3.0</td>\n",
       "      <td>clips</td>\n",
       "      <td>2025-02-09T20:47:15.000Z</td>\n",
       "      <td>Video</td>\n",
       "    </tr>\n",
       "    <tr>\n",
       "      <th>1</th>\n",
       "      <td>Royal entry \\n\\nShot @snap.wedstudio \\n\\n#vira...</td>\n",
       "      <td>1</td>\n",
       "      <td>1920</td>\n",
       "      <td>1080</td>\n",
       "      <td>viralreels</td>\n",
       "      <td>reelit</td>\n",
       "      <td>instareels</td>\n",
       "      <td>3564801497332722607</td>\n",
       "      <td>7398.0</td>\n",
       "      <td>clips</td>\n",
       "      <td>2025-02-10T08:58:59.000Z</td>\n",
       "      <td>Video</td>\n",
       "    </tr>\n",
       "    <tr>\n",
       "      <th>2</th>\n",
       "      <td>Yaaaaa tenemos fecha para nuestra masterclass ...</td>\n",
       "      <td>5</td>\n",
       "      <td>1920</td>\n",
       "      <td>1080</td>\n",
       "      <td>makeupaddict</td>\n",
       "      <td>makeuptutorial</td>\n",
       "      <td>makeupartistsworldwide</td>\n",
       "      <td>3562458254031900870</td>\n",
       "      <td>1494.0</td>\n",
       "      <td>clips</td>\n",
       "      <td>2025-02-07T03:19:18.000Z</td>\n",
       "      <td>Video</td>\n",
       "    </tr>\n",
       "    <tr>\n",
       "      <th>3</th>\n",
       "      <td>My Bride to be❤️\\n\\nThank you @k_karthik_m @ni...</td>\n",
       "      <td>12</td>\n",
       "      <td>1920</td>\n",
       "      <td>1080</td>\n",
       "      <td>bride</td>\n",
       "      <td>wedding</td>\n",
       "      <td>weddingdress</td>\n",
       "      <td>3565042050850858012</td>\n",
       "      <td>299.0</td>\n",
       "      <td>clips</td>\n",
       "      <td>2025-02-10T16:50:10.000Z</td>\n",
       "      <td>Video</td>\n",
       "    </tr>\n",
       "    <tr>\n",
       "      <th>4</th>\n",
       "      <td>Finally..6 years of the battle was ends!!\\n\\n#...</td>\n",
       "      <td>34</td>\n",
       "      <td>1920</td>\n",
       "      <td>1080</td>\n",
       "      <td>wedding</td>\n",
       "      <td>love</td>\n",
       "      <td>reels</td>\n",
       "      <td>3564106442171090165</td>\n",
       "      <td>1064.0</td>\n",
       "      <td>clips</td>\n",
       "      <td>2025-02-09T09:57:31.000Z</td>\n",
       "      <td>Video</td>\n",
       "    </tr>\n",
       "    <tr>\n",
       "      <th>5</th>\n",
       "      <td>Khwaab x Idaho Clothing 2025✨\\n\\nIntroducing a...</td>\n",
       "      <td>8</td>\n",
       "      <td>1920</td>\n",
       "      <td>1080</td>\n",
       "      <td>wedding</td>\n",
       "      <td>wedding2024</td>\n",
       "      <td>festivecollection</td>\n",
       "      <td>3564988227260087524</td>\n",
       "      <td>1141.0</td>\n",
       "      <td>clips</td>\n",
       "      <td>2025-02-10T15:03:58.000Z</td>\n",
       "      <td>Video</td>\n",
       "    </tr>\n",
       "    <tr>\n",
       "      <th>6</th>\n",
       "      <td>{part one} Had the pleasure of working with As...</td>\n",
       "      <td>20</td>\n",
       "      <td>612</td>\n",
       "      <td>612</td>\n",
       "      <td>NaN</td>\n",
       "      <td>NaN</td>\n",
       "      <td>NaN</td>\n",
       "      <td>3562796756619742997</td>\n",
       "      <td>346.0</td>\n",
       "      <td>carousel_container</td>\n",
       "      <td>2025-02-07T14:28:11.000Z</td>\n",
       "      <td>Sidecar</td>\n",
       "    </tr>\n",
       "    <tr>\n",
       "      <th>7</th>\n",
       "      <td>A D A N N A   J I D E O F O R\\nEvent planner @...</td>\n",
       "      <td>18</td>\n",
       "      <td>612</td>\n",
       "      <td>612</td>\n",
       "      <td>NaN</td>\n",
       "      <td>NaN</td>\n",
       "      <td>NaN</td>\n",
       "      <td>3564014969406121035</td>\n",
       "      <td>666.0</td>\n",
       "      <td>carousel_container</td>\n",
       "      <td>2025-02-09T06:48:34.000Z</td>\n",
       "      <td>Sidecar</td>\n",
       "    </tr>\n",
       "    <tr>\n",
       "      <th>8</th>\n",
       "      <td>A garden party wedding that feels like steppin...</td>\n",
       "      <td>51</td>\n",
       "      <td>612</td>\n",
       "      <td>612</td>\n",
       "      <td>weddingphotography</td>\n",
       "      <td>stylemepretty</td>\n",
       "      <td>weddingplanner</td>\n",
       "      <td>3564264815063285241</td>\n",
       "      <td>3019.0</td>\n",
       "      <td>carousel_container</td>\n",
       "      <td>2025-02-09T15:04:58.000Z</td>\n",
       "      <td>Sidecar</td>\n",
       "    </tr>\n",
       "    <tr>\n",
       "      <th>9</th>\n",
       "      <td>Sun-kissed hues, lush blooms, and a touch of t...</td>\n",
       "      <td>10</td>\n",
       "      <td>306</td>\n",
       "      <td>306</td>\n",
       "      <td>weddingphotography</td>\n",
       "      <td>stylemepretty</td>\n",
       "      <td>weddingplanner</td>\n",
       "      <td>3565697179375189931</td>\n",
       "      <td>1571.0</td>\n",
       "      <td>carousel_container</td>\n",
       "      <td>2025-02-11T14:30:49.000Z</td>\n",
       "      <td>Sidecar</td>\n",
       "    </tr>\n",
       "  </tbody>\n",
       "</table>\n",
       "</div>"
      ],
      "text/plain": [
       "                                             caption  commentsCount  \\\n",
       "0  Serving looks, love, loyalty with a spectacula...              9   \n",
       "1  Royal entry \\n\\nShot @snap.wedstudio \\n\\n#vira...              1   \n",
       "2  Yaaaaa tenemos fecha para nuestra masterclass ...              5   \n",
       "3  My Bride to be❤️\\n\\nThank you @k_karthik_m @ni...             12   \n",
       "4  Finally..6 years of the battle was ends!!\\n\\n#...             34   \n",
       "5  Khwaab x Idaho Clothing 2025✨\\n\\nIntroducing a...              8   \n",
       "6  {part one} Had the pleasure of working with As...             20   \n",
       "7  A D A N N A   J I D E O F O R\\nEvent planner @...             18   \n",
       "8  A garden party wedding that feels like steppin...             51   \n",
       "9  Sun-kissed hues, lush blooms, and a touch of t...             10   \n",
       "\n",
       "   dimensionsHeight  dimensionsWidth          hashtags/0      hashtags/1  \\\n",
       "0              1280              720          blackbride  blackbride1998   \n",
       "1              1920             1080          viralreels          reelit   \n",
       "2              1920             1080        makeupaddict  makeuptutorial   \n",
       "3              1920             1080               bride         wedding   \n",
       "4              1920             1080             wedding            love   \n",
       "5              1920             1080             wedding     wedding2024   \n",
       "6               612              612                 NaN             NaN   \n",
       "7               612              612                 NaN             NaN   \n",
       "8               612              612  weddingphotography   stylemepretty   \n",
       "9               306              306  weddingphotography   stylemepretty   \n",
       "\n",
       "               hashtags/2                   id  likesCount  \\\n",
       "0           multicultural  3564435232377280845         3.0   \n",
       "1              instareels  3564801497332722607      7398.0   \n",
       "2  makeupartistsworldwide  3562458254031900870      1494.0   \n",
       "3            weddingdress  3565042050850858012       299.0   \n",
       "4                   reels  3564106442171090165      1064.0   \n",
       "5       festivecollection  3564988227260087524      1141.0   \n",
       "6                     NaN  3562796756619742997       346.0   \n",
       "7                     NaN  3564014969406121035       666.0   \n",
       "8          weddingplanner  3564264815063285241      3019.0   \n",
       "9          weddingplanner  3565697179375189931      1571.0   \n",
       "\n",
       "          productType                 timestamp     type  \n",
       "0               clips  2025-02-09T20:47:15.000Z    Video  \n",
       "1               clips  2025-02-10T08:58:59.000Z    Video  \n",
       "2               clips  2025-02-07T03:19:18.000Z    Video  \n",
       "3               clips  2025-02-10T16:50:10.000Z    Video  \n",
       "4               clips  2025-02-09T09:57:31.000Z    Video  \n",
       "5               clips  2025-02-10T15:03:58.000Z    Video  \n",
       "6  carousel_container  2025-02-07T14:28:11.000Z  Sidecar  \n",
       "7  carousel_container  2025-02-09T06:48:34.000Z  Sidecar  \n",
       "8  carousel_container  2025-02-09T15:04:58.000Z  Sidecar  \n",
       "9  carousel_container  2025-02-11T14:30:49.000Z  Sidecar  "
      ]
     },
     "execution_count": 23,
     "metadata": {},
     "output_type": "execute_result"
    }
   ],
   "source": [
    "filtered_df.head(10)"
   ]
  },
  {
   "cell_type": "markdown",
   "id": "a4d6c9be",
   "metadata": {},
   "source": [
    "# Fill in Empty Areas"
   ]
  },
  {
   "cell_type": "code",
   "execution_count": 25,
   "id": "0bd43c5f",
   "metadata": {},
   "outputs": [
    {
     "data": {
      "text/plain": [
       "'\\nif needed later:, \"hashtags/3\" , \"hashtags/4\", \"hashtags/5\",\\n                       \"hashtags/6\",\"hashtags/7\", \"hashtags/8\", \"hashtags/9\", \"hashtags/10\"\\n'"
      ]
     },
     "execution_count": 25,
     "metadata": {},
     "output_type": "execute_result"
    }
   ],
   "source": [
    "filtered_df.loc[:, [\"hashtags/0\",\"hashtags/1\", \"hashtags/2\"]] = (\n",
    "    filtered_df.loc[:, [\"hashtags/0\",\"hashtags/1\", \"hashtags/2\"]]\n",
    "    .fillna('none')\n",
    ")\n",
    "'''\n",
    "if needed later:, \"hashtags/3\" , \"hashtags/4\", \"hashtags/5\",\n",
    "                       \"hashtags/6\",\"hashtags/7\", \"hashtags/8\", \"hashtags/9\", \"hashtags/10\"\n",
    "'''\n"
   ]
  },
  {
   "cell_type": "code",
   "execution_count": 26,
   "id": "431f994b",
   "metadata": {},
   "outputs": [
    {
     "name": "stderr",
     "output_type": "stream",
     "text": [
      "/var/folders/yp/nnhfbx9n055106j0nvvkcwlr0000gn/T/ipykernel_51350/4127831873.py:2: SettingWithCopyWarning: \n",
      "A value is trying to be set on a copy of a slice from a DataFrame\n",
      "\n",
      "See the caveats in the documentation: https://pandas.pydata.org/pandas-docs/stable/user_guide/indexing.html#returning-a-view-versus-a-copy\n",
      "  filtered_df.dropna(subset=['caption', 'likesCount'], inplace = True)\n"
     ]
    }
   ],
   "source": [
    "#Drop all rows where the caption column is empty\n",
    "filtered_df.dropna(subset=['caption', 'likesCount'], inplace = True)"
   ]
  },
  {
   "cell_type": "markdown",
   "id": "a0d2d4eb",
   "metadata": {},
   "source": [
    "# Feature Engineering"
   ]
  },
  {
   "cell_type": "code",
   "execution_count": 27,
   "id": "caa34599",
   "metadata": {},
   "outputs": [
    {
     "name": "stderr",
     "output_type": "stream",
     "text": [
      "/var/folders/yp/nnhfbx9n055106j0nvvkcwlr0000gn/T/ipykernel_51350/1543128548.py:1: SettingWithCopyWarning: \n",
      "A value is trying to be set on a copy of a slice from a DataFrame.\n",
      "Try using .loc[row_indexer,col_indexer] = value instead\n",
      "\n",
      "See the caveats in the documentation: https://pandas.pydata.org/pandas-docs/stable/user_guide/indexing.html#returning-a-view-versus-a-copy\n",
      "  filtered_df[\"timestamp\"] = filtered_df[\"timestamp\"] = pd.to_datetime(filtered_df[\"timestamp\"].str.slice(0, 19))\n"
     ]
    }
   ],
   "source": [
    "filtered_df[\"timestamp\"] = filtered_df[\"timestamp\"] = pd.to_datetime(filtered_df[\"timestamp\"].str.slice(0, 19))"
   ]
  },
  {
   "cell_type": "code",
   "execution_count": 29,
   "id": "f18b48d6",
   "metadata": {},
   "outputs": [
    {
     "name": "stderr",
     "output_type": "stream",
     "text": [
      "/var/folders/yp/nnhfbx9n055106j0nvvkcwlr0000gn/T/ipykernel_51350/2702152069.py:1: SettingWithCopyWarning: \n",
      "A value is trying to be set on a copy of a slice from a DataFrame.\n",
      "Try using .loc[row_indexer,col_indexer] = value instead\n",
      "\n",
      "See the caveats in the documentation: https://pandas.pydata.org/pandas-docs/stable/user_guide/indexing.html#returning-a-view-versus-a-copy\n",
      "  filtered_df['day_of_week'] = filtered_df['timestamp'].dt.day_name()\n"
     ]
    }
   ],
   "source": [
    "filtered_df['day_of_week'] = filtered_df['timestamp'].dt.day_name()"
   ]
  },
  {
   "cell_type": "code",
   "execution_count": 30,
   "id": "741ef6d2",
   "metadata": {},
   "outputs": [
    {
     "name": "stderr",
     "output_type": "stream",
     "text": [
      "/var/folders/yp/nnhfbx9n055106j0nvvkcwlr0000gn/T/ipykernel_51350/992455370.py:1: SettingWithCopyWarning: \n",
      "A value is trying to be set on a copy of a slice from a DataFrame.\n",
      "Try using .loc[row_indexer,col_indexer] = value instead\n",
      "\n",
      "See the caveats in the documentation: https://pandas.pydata.org/pandas-docs/stable/user_guide/indexing.html#returning-a-view-versus-a-copy\n",
      "  filtered_df['hour_of_day'] = filtered_df['timestamp'].dt.hour\n"
     ]
    }
   ],
   "source": [
    "filtered_df['hour_of_day'] = filtered_df['timestamp'].dt.hour"
   ]
  },
  {
   "cell_type": "code",
   "execution_count": 31,
   "id": "c67d9a2d",
   "metadata": {},
   "outputs": [
    {
     "name": "stderr",
     "output_type": "stream",
     "text": [
      "/var/folders/yp/nnhfbx9n055106j0nvvkcwlr0000gn/T/ipykernel_51350/1903571699.py:1: SettingWithCopyWarning: \n",
      "A value is trying to be set on a copy of a slice from a DataFrame.\n",
      "Try using .loc[row_indexer,col_indexer] = value instead\n",
      "\n",
      "See the caveats in the documentation: https://pandas.pydata.org/pandas-docs/stable/user_guide/indexing.html#returning-a-view-versus-a-copy\n",
      "  filtered_df['month_of_year'] = filtered_df['timestamp'].dt.month\n"
     ]
    }
   ],
   "source": [
    "filtered_df['month_of_year'] = filtered_df['timestamp'].dt.month"
   ]
  },
  {
   "cell_type": "code",
   "execution_count": 32,
   "id": "04e555b6",
   "metadata": {},
   "outputs": [
    {
     "name": "stderr",
     "output_type": "stream",
     "text": [
      "/var/folders/yp/nnhfbx9n055106j0nvvkcwlr0000gn/T/ipykernel_51350/71741828.py:20: SettingWithCopyWarning: \n",
      "A value is trying to be set on a copy of a slice from a DataFrame.\n",
      "Try using .loc[row_indexer,col_indexer] = value instead\n",
      "\n",
      "See the caveats in the documentation: https://pandas.pydata.org/pandas-docs/stable/user_guide/indexing.html#returning-a-view-versus-a-copy\n",
      "  filtered_df[\"season\"] = filtered_df[\"timestamp\"].apply(get_season)\n"
     ]
    }
   ],
   "source": [
    "#seasons\n",
    "def get_season(date):\n",
    "    month = date.month\n",
    "    day = date.day\n",
    "    \n",
    "    # Northern Hemisphere\n",
    "    if (month == 12 and day >= 21) or (month in [1, 2]) or (month == 3 and day < 20):\n",
    "        return \"Winter\"\n",
    "    elif (month == 3 and day >= 20) or (month in [4, 5]) or (month == 6 and day < 21):\n",
    "        return \"Spring\"\n",
    "    elif (month == 6 and day >= 21) or (month in [7, 8]) or (month == 9 and day < 23):\n",
    "        return \"Summer\"\n",
    "    elif (month == 9 and day >= 23) or (month in [10, 11]) or (month == 12 and day < 21):\n",
    "        return \"Fall\"\n",
    "\n",
    "    # Southern Hemisphere (adjust for hemisphere if needed)\n",
    "    # You can create a similar logic for Southern Hemisphere dates.\n",
    "\n",
    "# Apply the function to the DataFrame\n",
    "filtered_df[\"season\"] = filtered_df[\"timestamp\"].apply(get_season)"
   ]
  },
  {
   "cell_type": "code",
   "execution_count": 33,
   "id": "fc527327",
   "metadata": {},
   "outputs": [
    {
     "name": "stderr",
     "output_type": "stream",
     "text": [
      "/var/folders/yp/nnhfbx9n055106j0nvvkcwlr0000gn/T/ipykernel_51350/2202377665.py:2: SettingWithCopyWarning: \n",
      "A value is trying to be set on a copy of a slice from a DataFrame.\n",
      "Try using .loc[row_indexer,col_indexer] = value instead\n",
      "\n",
      "See the caveats in the documentation: https://pandas.pydata.org/pandas-docs/stable/user_guide/indexing.html#returning-a-view-versus-a-copy\n",
      "  filtered_df['popularity_index'] = (filtered_df['likesCount'] * .7) + (filtered_df['commentsCount'] *.3)\n"
     ]
    }
   ],
   "source": [
    "# create a weighted index popularity_index = (likesCount * 0.7) + (commentsCount * 0.3)\n",
    "filtered_df['popularity_index'] = (filtered_df['likesCount'] * .7) + (filtered_df['commentsCount'] *.3)"
   ]
  },
  {
   "cell_type": "code",
   "execution_count": 34,
   "id": "1f322016",
   "metadata": {},
   "outputs": [
    {
     "name": "stdout",
     "output_type": "stream",
     "text": [
      "<class 'pandas.core.frame.DataFrame'>\n",
      "Index: 1724 entries, 0 to 1729\n",
      "Data columns (total 17 columns):\n",
      " #   Column            Non-Null Count  Dtype         \n",
      "---  ------            --------------  -----         \n",
      " 0   caption           1724 non-null   object        \n",
      " 1   commentsCount     1724 non-null   int64         \n",
      " 2   dimensionsHeight  1724 non-null   int64         \n",
      " 3   dimensionsWidth   1724 non-null   int64         \n",
      " 4   hashtags/0        1724 non-null   object        \n",
      " 5   hashtags/1        1724 non-null   object        \n",
      " 6   hashtags/2        1724 non-null   object        \n",
      " 7   id                1724 non-null   int64         \n",
      " 8   likesCount        1724 non-null   float64       \n",
      " 9   productType       1724 non-null   object        \n",
      " 10  timestamp         1724 non-null   datetime64[ns]\n",
      " 11  type              1724 non-null   object        \n",
      " 12  day_of_week       1724 non-null   object        \n",
      " 13  hour_of_day       1724 non-null   int32         \n",
      " 14  month_of_year     1724 non-null   int32         \n",
      " 15  season            1724 non-null   object        \n",
      " 16  popularity_index  1724 non-null   float64       \n",
      "dtypes: datetime64[ns](1), float64(2), int32(2), int64(4), object(8)\n",
      "memory usage: 229.0+ KB\n"
     ]
    }
   ],
   "source": [
    "filtered_df.info()"
   ]
  },
  {
   "cell_type": "code",
   "execution_count": 35,
   "id": "f4d03217",
   "metadata": {},
   "outputs": [
    {
     "data": {
      "text/html": [
       "<div>\n",
       "<style scoped>\n",
       "    .dataframe tbody tr th:only-of-type {\n",
       "        vertical-align: middle;\n",
       "    }\n",
       "\n",
       "    .dataframe tbody tr th {\n",
       "        vertical-align: top;\n",
       "    }\n",
       "\n",
       "    .dataframe thead th {\n",
       "        text-align: right;\n",
       "    }\n",
       "</style>\n",
       "<table border=\"1\" class=\"dataframe\">\n",
       "  <thead>\n",
       "    <tr style=\"text-align: right;\">\n",
       "      <th></th>\n",
       "      <th>caption</th>\n",
       "      <th>commentsCount</th>\n",
       "      <th>dimensionsHeight</th>\n",
       "      <th>dimensionsWidth</th>\n",
       "      <th>hashtags/0</th>\n",
       "      <th>hashtags/1</th>\n",
       "      <th>hashtags/2</th>\n",
       "      <th>id</th>\n",
       "      <th>likesCount</th>\n",
       "      <th>productType</th>\n",
       "      <th>timestamp</th>\n",
       "      <th>type</th>\n",
       "      <th>day_of_week</th>\n",
       "      <th>hour_of_day</th>\n",
       "      <th>month_of_year</th>\n",
       "      <th>season</th>\n",
       "      <th>popularity_index</th>\n",
       "    </tr>\n",
       "  </thead>\n",
       "  <tbody>\n",
       "    <tr>\n",
       "      <th>0</th>\n",
       "      <td>Serving looks, love, loyalty with a spectacula...</td>\n",
       "      <td>9</td>\n",
       "      <td>1280</td>\n",
       "      <td>720</td>\n",
       "      <td>blackbride</td>\n",
       "      <td>blackbride1998</td>\n",
       "      <td>multicultural</td>\n",
       "      <td>3564435232377280845</td>\n",
       "      <td>3.0</td>\n",
       "      <td>clips</td>\n",
       "      <td>2025-02-09 20:47:15</td>\n",
       "      <td>Video</td>\n",
       "      <td>Sunday</td>\n",
       "      <td>20</td>\n",
       "      <td>2</td>\n",
       "      <td>Winter</td>\n",
       "      <td>4.8</td>\n",
       "    </tr>\n",
       "    <tr>\n",
       "      <th>1</th>\n",
       "      <td>Royal entry \\n\\nShot @snap.wedstudio \\n\\n#vira...</td>\n",
       "      <td>1</td>\n",
       "      <td>1920</td>\n",
       "      <td>1080</td>\n",
       "      <td>viralreels</td>\n",
       "      <td>reelit</td>\n",
       "      <td>instareels</td>\n",
       "      <td>3564801497332722607</td>\n",
       "      <td>7398.0</td>\n",
       "      <td>clips</td>\n",
       "      <td>2025-02-10 08:58:59</td>\n",
       "      <td>Video</td>\n",
       "      <td>Monday</td>\n",
       "      <td>8</td>\n",
       "      <td>2</td>\n",
       "      <td>Winter</td>\n",
       "      <td>5178.9</td>\n",
       "    </tr>\n",
       "    <tr>\n",
       "      <th>2</th>\n",
       "      <td>Yaaaaa tenemos fecha para nuestra masterclass ...</td>\n",
       "      <td>5</td>\n",
       "      <td>1920</td>\n",
       "      <td>1080</td>\n",
       "      <td>makeupaddict</td>\n",
       "      <td>makeuptutorial</td>\n",
       "      <td>makeupartistsworldwide</td>\n",
       "      <td>3562458254031900870</td>\n",
       "      <td>1494.0</td>\n",
       "      <td>clips</td>\n",
       "      <td>2025-02-07 03:19:18</td>\n",
       "      <td>Video</td>\n",
       "      <td>Friday</td>\n",
       "      <td>3</td>\n",
       "      <td>2</td>\n",
       "      <td>Winter</td>\n",
       "      <td>1047.3</td>\n",
       "    </tr>\n",
       "    <tr>\n",
       "      <th>3</th>\n",
       "      <td>My Bride to be❤️\\n\\nThank you @k_karthik_m @ni...</td>\n",
       "      <td>12</td>\n",
       "      <td>1920</td>\n",
       "      <td>1080</td>\n",
       "      <td>bride</td>\n",
       "      <td>wedding</td>\n",
       "      <td>weddingdress</td>\n",
       "      <td>3565042050850858012</td>\n",
       "      <td>299.0</td>\n",
       "      <td>clips</td>\n",
       "      <td>2025-02-10 16:50:10</td>\n",
       "      <td>Video</td>\n",
       "      <td>Monday</td>\n",
       "      <td>16</td>\n",
       "      <td>2</td>\n",
       "      <td>Winter</td>\n",
       "      <td>212.9</td>\n",
       "    </tr>\n",
       "    <tr>\n",
       "      <th>4</th>\n",
       "      <td>Finally..6 years of the battle was ends!!\\n\\n#...</td>\n",
       "      <td>34</td>\n",
       "      <td>1920</td>\n",
       "      <td>1080</td>\n",
       "      <td>wedding</td>\n",
       "      <td>love</td>\n",
       "      <td>reels</td>\n",
       "      <td>3564106442171090165</td>\n",
       "      <td>1064.0</td>\n",
       "      <td>clips</td>\n",
       "      <td>2025-02-09 09:57:31</td>\n",
       "      <td>Video</td>\n",
       "      <td>Sunday</td>\n",
       "      <td>9</td>\n",
       "      <td>2</td>\n",
       "      <td>Winter</td>\n",
       "      <td>755.0</td>\n",
       "    </tr>\n",
       "    <tr>\n",
       "      <th>5</th>\n",
       "      <td>Khwaab x Idaho Clothing 2025✨\\n\\nIntroducing a...</td>\n",
       "      <td>8</td>\n",
       "      <td>1920</td>\n",
       "      <td>1080</td>\n",
       "      <td>wedding</td>\n",
       "      <td>wedding2024</td>\n",
       "      <td>festivecollection</td>\n",
       "      <td>3564988227260087524</td>\n",
       "      <td>1141.0</td>\n",
       "      <td>clips</td>\n",
       "      <td>2025-02-10 15:03:58</td>\n",
       "      <td>Video</td>\n",
       "      <td>Monday</td>\n",
       "      <td>15</td>\n",
       "      <td>2</td>\n",
       "      <td>Winter</td>\n",
       "      <td>801.1</td>\n",
       "    </tr>\n",
       "    <tr>\n",
       "      <th>6</th>\n",
       "      <td>{part one} Had the pleasure of working with As...</td>\n",
       "      <td>20</td>\n",
       "      <td>612</td>\n",
       "      <td>612</td>\n",
       "      <td>none</td>\n",
       "      <td>none</td>\n",
       "      <td>none</td>\n",
       "      <td>3562796756619742997</td>\n",
       "      <td>346.0</td>\n",
       "      <td>carousel_container</td>\n",
       "      <td>2025-02-07 14:28:11</td>\n",
       "      <td>Sidecar</td>\n",
       "      <td>Friday</td>\n",
       "      <td>14</td>\n",
       "      <td>2</td>\n",
       "      <td>Winter</td>\n",
       "      <td>248.2</td>\n",
       "    </tr>\n",
       "    <tr>\n",
       "      <th>7</th>\n",
       "      <td>A D A N N A   J I D E O F O R\\nEvent planner @...</td>\n",
       "      <td>18</td>\n",
       "      <td>612</td>\n",
       "      <td>612</td>\n",
       "      <td>none</td>\n",
       "      <td>none</td>\n",
       "      <td>none</td>\n",
       "      <td>3564014969406121035</td>\n",
       "      <td>666.0</td>\n",
       "      <td>carousel_container</td>\n",
       "      <td>2025-02-09 06:48:34</td>\n",
       "      <td>Sidecar</td>\n",
       "      <td>Sunday</td>\n",
       "      <td>6</td>\n",
       "      <td>2</td>\n",
       "      <td>Winter</td>\n",
       "      <td>471.6</td>\n",
       "    </tr>\n",
       "    <tr>\n",
       "      <th>8</th>\n",
       "      <td>A garden party wedding that feels like steppin...</td>\n",
       "      <td>51</td>\n",
       "      <td>612</td>\n",
       "      <td>612</td>\n",
       "      <td>weddingphotography</td>\n",
       "      <td>stylemepretty</td>\n",
       "      <td>weddingplanner</td>\n",
       "      <td>3564264815063285241</td>\n",
       "      <td>3019.0</td>\n",
       "      <td>carousel_container</td>\n",
       "      <td>2025-02-09 15:04:58</td>\n",
       "      <td>Sidecar</td>\n",
       "      <td>Sunday</td>\n",
       "      <td>15</td>\n",
       "      <td>2</td>\n",
       "      <td>Winter</td>\n",
       "      <td>2128.6</td>\n",
       "    </tr>\n",
       "    <tr>\n",
       "      <th>9</th>\n",
       "      <td>Sun-kissed hues, lush blooms, and a touch of t...</td>\n",
       "      <td>10</td>\n",
       "      <td>306</td>\n",
       "      <td>306</td>\n",
       "      <td>weddingphotography</td>\n",
       "      <td>stylemepretty</td>\n",
       "      <td>weddingplanner</td>\n",
       "      <td>3565697179375189931</td>\n",
       "      <td>1571.0</td>\n",
       "      <td>carousel_container</td>\n",
       "      <td>2025-02-11 14:30:49</td>\n",
       "      <td>Sidecar</td>\n",
       "      <td>Tuesday</td>\n",
       "      <td>14</td>\n",
       "      <td>2</td>\n",
       "      <td>Winter</td>\n",
       "      <td>1102.7</td>\n",
       "    </tr>\n",
       "  </tbody>\n",
       "</table>\n",
       "</div>"
      ],
      "text/plain": [
       "                                             caption  commentsCount  \\\n",
       "0  Serving looks, love, loyalty with a spectacula...              9   \n",
       "1  Royal entry \\n\\nShot @snap.wedstudio \\n\\n#vira...              1   \n",
       "2  Yaaaaa tenemos fecha para nuestra masterclass ...              5   \n",
       "3  My Bride to be❤️\\n\\nThank you @k_karthik_m @ni...             12   \n",
       "4  Finally..6 years of the battle was ends!!\\n\\n#...             34   \n",
       "5  Khwaab x Idaho Clothing 2025✨\\n\\nIntroducing a...              8   \n",
       "6  {part one} Had the pleasure of working with As...             20   \n",
       "7  A D A N N A   J I D E O F O R\\nEvent planner @...             18   \n",
       "8  A garden party wedding that feels like steppin...             51   \n",
       "9  Sun-kissed hues, lush blooms, and a touch of t...             10   \n",
       "\n",
       "   dimensionsHeight  dimensionsWidth          hashtags/0      hashtags/1  \\\n",
       "0              1280              720          blackbride  blackbride1998   \n",
       "1              1920             1080          viralreels          reelit   \n",
       "2              1920             1080        makeupaddict  makeuptutorial   \n",
       "3              1920             1080               bride         wedding   \n",
       "4              1920             1080             wedding            love   \n",
       "5              1920             1080             wedding     wedding2024   \n",
       "6               612              612                none            none   \n",
       "7               612              612                none            none   \n",
       "8               612              612  weddingphotography   stylemepretty   \n",
       "9               306              306  weddingphotography   stylemepretty   \n",
       "\n",
       "               hashtags/2                   id  likesCount  \\\n",
       "0           multicultural  3564435232377280845         3.0   \n",
       "1              instareels  3564801497332722607      7398.0   \n",
       "2  makeupartistsworldwide  3562458254031900870      1494.0   \n",
       "3            weddingdress  3565042050850858012       299.0   \n",
       "4                   reels  3564106442171090165      1064.0   \n",
       "5       festivecollection  3564988227260087524      1141.0   \n",
       "6                    none  3562796756619742997       346.0   \n",
       "7                    none  3564014969406121035       666.0   \n",
       "8          weddingplanner  3564264815063285241      3019.0   \n",
       "9          weddingplanner  3565697179375189931      1571.0   \n",
       "\n",
       "          productType           timestamp     type day_of_week  hour_of_day  \\\n",
       "0               clips 2025-02-09 20:47:15    Video      Sunday           20   \n",
       "1               clips 2025-02-10 08:58:59    Video      Monday            8   \n",
       "2               clips 2025-02-07 03:19:18    Video      Friday            3   \n",
       "3               clips 2025-02-10 16:50:10    Video      Monday           16   \n",
       "4               clips 2025-02-09 09:57:31    Video      Sunday            9   \n",
       "5               clips 2025-02-10 15:03:58    Video      Monday           15   \n",
       "6  carousel_container 2025-02-07 14:28:11  Sidecar      Friday           14   \n",
       "7  carousel_container 2025-02-09 06:48:34  Sidecar      Sunday            6   \n",
       "8  carousel_container 2025-02-09 15:04:58  Sidecar      Sunday           15   \n",
       "9  carousel_container 2025-02-11 14:30:49  Sidecar     Tuesday           14   \n",
       "\n",
       "   month_of_year  season  popularity_index  \n",
       "0              2  Winter               4.8  \n",
       "1              2  Winter            5178.9  \n",
       "2              2  Winter            1047.3  \n",
       "3              2  Winter             212.9  \n",
       "4              2  Winter             755.0  \n",
       "5              2  Winter             801.1  \n",
       "6              2  Winter             248.2  \n",
       "7              2  Winter             471.6  \n",
       "8              2  Winter            2128.6  \n",
       "9              2  Winter            1102.7  "
      ]
     },
     "execution_count": 35,
     "metadata": {},
     "output_type": "execute_result"
    }
   ],
   "source": [
    "filtered_df.head(10)"
   ]
  },
  {
   "cell_type": "markdown",
   "id": "5565ecd6",
   "metadata": {},
   "source": [
    "# Join DF"
   ]
  },
  {
   "cell_type": "code",
   "execution_count": 45,
   "id": "057ad141",
   "metadata": {},
   "outputs": [],
   "source": [
    "join_df = pd.concat([df,filtered_df], join='outer')\n"
   ]
  },
  {
   "cell_type": "code",
   "execution_count": 48,
   "id": "5ff24762",
   "metadata": {},
   "outputs": [],
   "source": [
    "join_df.drop(columns=[\"index\",\"ownerId\",\"id\"], inplace = True)"
   ]
  },
  {
   "cell_type": "code",
   "execution_count": 49,
   "id": "a83cc965",
   "metadata": {},
   "outputs": [
    {
     "name": "stdout",
     "output_type": "stream",
     "text": [
      "<class 'pandas.core.frame.DataFrame'>\n",
      "Index: 5856 entries, 0 to 1729\n",
      "Data columns (total 16 columns):\n",
      " #   Column            Non-Null Count  Dtype  \n",
      "---  ------            --------------  -----  \n",
      " 0   caption           5856 non-null   object \n",
      " 1   commentsCount     5856 non-null   int64  \n",
      " 2   dimensionsHeight  5856 non-null   int64  \n",
      " 3   dimensionsWidth   5856 non-null   int64  \n",
      " 4   hashtags/0        5856 non-null   object \n",
      " 5   hashtags/1        5856 non-null   object \n",
      " 6   hashtags/2        5856 non-null   object \n",
      " 7   likesCount        5856 non-null   float64\n",
      " 8   productType       5856 non-null   object \n",
      " 9   timestamp         5856 non-null   object \n",
      " 10  type              5856 non-null   object \n",
      " 11  day_of_week       5856 non-null   object \n",
      " 12  popularity_index  5856 non-null   float64\n",
      " 13  season            5856 non-null   object \n",
      " 14  hour_of_day       5856 non-null   int64  \n",
      " 15  month_of_year     5856 non-null   int64  \n",
      "dtypes: float64(2), int64(5), object(9)\n",
      "memory usage: 777.8+ KB\n"
     ]
    }
   ],
   "source": [
    "join_df.info()"
   ]
  },
  {
   "cell_type": "code",
   "execution_count": 77,
   "id": "5bfd891b",
   "metadata": {},
   "outputs": [
    {
     "name": "stdout",
     "output_type": "stream",
     "text": [
      "<class 'pandas.core.frame.DataFrame'>\n",
      "RangeIndex: 4147 entries, 0 to 4146\n",
      "Data columns (total 18 columns):\n",
      " #   Column            Non-Null Count  Dtype  \n",
      "---  ------            --------------  -----  \n",
      " 0   caption           4143 non-null   object \n",
      " 1   commentsCount     4147 non-null   int64  \n",
      " 2   dimensionsHeight  4147 non-null   int64  \n",
      " 3   dimensionsWidth   4147 non-null   int64  \n",
      " 4   displayUrl        4147 non-null   object \n",
      " 5   hashtags/0        3704 non-null   object \n",
      " 6   hashtags/1        3635 non-null   object \n",
      " 7   hashtags/2        3594 non-null   object \n",
      " 8   inputUrl          4147 non-null   object \n",
      " 9   isSponsored       4147 non-null   bool   \n",
      " 10  likesCount        4136 non-null   float64\n",
      " 11  ownerFullName     4058 non-null   object \n",
      " 12  ownerId           4147 non-null   int64  \n",
      " 13  ownerUsername     4147 non-null   object \n",
      " 14  productType       4147 non-null   object \n",
      " 15  shortCode         4147 non-null   object \n",
      " 16  timestamp         4147 non-null   object \n",
      " 17  type              4147 non-null   object \n",
      "dtypes: bool(1), float64(1), int64(4), object(12)\n",
      "memory usage: 555.0+ KB\n"
     ]
    }
   ],
   "source": [
    "# Count non-null values per column\n",
    "non_null_counts3 = join_df.notna().sum()\n",
    "\n",
    "# Filter columns where the count of non-null values is >= 2000\n",
    "columns_to_keep3 = non_null_counts3[non_null_counts3 >= 3000].index\n",
    "\n",
    "# Update the DataFrame to keep only the filtered columns\n",
    "join_filtered_df = join_df[columns_to_keep3]\n",
    "join_filtered_df.info()"
   ]
  },
  {
   "cell_type": "code",
   "execution_count": 82,
   "id": "2ba12b8e",
   "metadata": {},
   "outputs": [
    {
     "name": "stderr",
     "output_type": "stream",
     "text": [
      "/var/folders/yp/nnhfbx9n055106j0nvvkcwlr0000gn/T/ipykernel_18221/1471026361.py:1: SettingWithCopyWarning: \n",
      "A value is trying to be set on a copy of a slice from a DataFrame\n",
      "\n",
      "See the caveats in the documentation: https://pandas.pydata.org/pandas-docs/stable/user_guide/indexing.html#returning-a-view-versus-a-copy\n",
      "  join_filtered_df.drop(columns = ['ownerFullName',\"isSponsored\",\n"
     ]
    }
   ],
   "source": [
    "join_filtered_df.drop(columns = ['ownerFullName',\"isSponsored\",\n",
    "                            \"displayUrl\", \"ownerUsername\", \"shortCode\",\"inputUrl\"], inplace = True)\n"
   ]
  },
  {
   "cell_type": "code",
   "execution_count": 84,
   "id": "e26665a9",
   "metadata": {},
   "outputs": [],
   "source": [
    "join_filtered_df = join_filtered_df.dropna(subset=['caption','commentsCount',\"likesCount\"])"
   ]
  },
  {
   "cell_type": "code",
   "execution_count": 90,
   "id": "936d6d80",
   "metadata": {},
   "outputs": [],
   "source": [
    "join_filtered_df.loc[:,['hashtags/0','hashtags/1','hashtags/2']] = join_filtered_df.loc[:,['hashtags/0','hashtags/1','hashtags/2']].fillna('none')"
   ]
  },
  {
   "cell_type": "code",
   "execution_count": 95,
   "id": "36c72766",
   "metadata": {
    "collapsed": true
   },
   "outputs": [
    {
     "ename": "AttributeError",
     "evalue": "Can only use .str accessor with string values!",
     "output_type": "error",
     "traceback": [
      "\u001b[0;31m---------------------------------------------------------------------------\u001b[0m",
      "\u001b[0;31mAttributeError\u001b[0m                            Traceback (most recent call last)",
      "Cell \u001b[0;32mIn[95], line 1\u001b[0m\n\u001b[0;32m----> 1\u001b[0m join_filtered_df\u001b[38;5;241m.\u001b[39mloc[:,\u001b[38;5;124m\"\u001b[39m\u001b[38;5;124mtimestamp\u001b[39m\u001b[38;5;124m\"\u001b[39m] \u001b[38;5;241m=\u001b[39m pd\u001b[38;5;241m.\u001b[39mto_datetime(join_filtered_df[\u001b[38;5;124m\"\u001b[39m\u001b[38;5;124mtimestamp\u001b[39m\u001b[38;5;124m\"\u001b[39m]\u001b[38;5;241m.\u001b[39mstr\u001b[38;5;241m.\u001b[39mslice(\u001b[38;5;241m0\u001b[39m, \u001b[38;5;241m19\u001b[39m))\n",
      "File \u001b[0;32m/opt/anaconda3/lib/python3.11/site-packages/pandas/core/generic.py:6204\u001b[0m, in \u001b[0;36mNDFrame.__getattr__\u001b[0;34m(self, name)\u001b[0m\n\u001b[1;32m   6197\u001b[0m \u001b[38;5;28;01mif\u001b[39;00m (\n\u001b[1;32m   6198\u001b[0m     name \u001b[38;5;129;01mnot\u001b[39;00m \u001b[38;5;129;01min\u001b[39;00m \u001b[38;5;28mself\u001b[39m\u001b[38;5;241m.\u001b[39m_internal_names_set\n\u001b[1;32m   6199\u001b[0m     \u001b[38;5;129;01mand\u001b[39;00m name \u001b[38;5;129;01mnot\u001b[39;00m \u001b[38;5;129;01min\u001b[39;00m \u001b[38;5;28mself\u001b[39m\u001b[38;5;241m.\u001b[39m_metadata\n\u001b[1;32m   6200\u001b[0m     \u001b[38;5;129;01mand\u001b[39;00m name \u001b[38;5;129;01mnot\u001b[39;00m \u001b[38;5;129;01min\u001b[39;00m \u001b[38;5;28mself\u001b[39m\u001b[38;5;241m.\u001b[39m_accessors\n\u001b[1;32m   6201\u001b[0m     \u001b[38;5;129;01mand\u001b[39;00m \u001b[38;5;28mself\u001b[39m\u001b[38;5;241m.\u001b[39m_info_axis\u001b[38;5;241m.\u001b[39m_can_hold_identifiers_and_holds_name(name)\n\u001b[1;32m   6202\u001b[0m ):\n\u001b[1;32m   6203\u001b[0m     \u001b[38;5;28;01mreturn\u001b[39;00m \u001b[38;5;28mself\u001b[39m[name]\n\u001b[0;32m-> 6204\u001b[0m \u001b[38;5;28;01mreturn\u001b[39;00m \u001b[38;5;28mobject\u001b[39m\u001b[38;5;241m.\u001b[39m\u001b[38;5;21m__getattribute__\u001b[39m(\u001b[38;5;28mself\u001b[39m, name)\n",
      "File \u001b[0;32m/opt/anaconda3/lib/python3.11/site-packages/pandas/core/accessor.py:224\u001b[0m, in \u001b[0;36mCachedAccessor.__get__\u001b[0;34m(self, obj, cls)\u001b[0m\n\u001b[1;32m    221\u001b[0m \u001b[38;5;28;01mif\u001b[39;00m obj \u001b[38;5;129;01mis\u001b[39;00m \u001b[38;5;28;01mNone\u001b[39;00m:\n\u001b[1;32m    222\u001b[0m     \u001b[38;5;66;03m# we're accessing the attribute of the class, i.e., Dataset.geo\u001b[39;00m\n\u001b[1;32m    223\u001b[0m     \u001b[38;5;28;01mreturn\u001b[39;00m \u001b[38;5;28mself\u001b[39m\u001b[38;5;241m.\u001b[39m_accessor\n\u001b[0;32m--> 224\u001b[0m accessor_obj \u001b[38;5;241m=\u001b[39m \u001b[38;5;28mself\u001b[39m\u001b[38;5;241m.\u001b[39m_accessor(obj)\n\u001b[1;32m    225\u001b[0m \u001b[38;5;66;03m# Replace the property with the accessor object. Inspired by:\u001b[39;00m\n\u001b[1;32m    226\u001b[0m \u001b[38;5;66;03m# https://www.pydanny.com/cached-property.html\u001b[39;00m\n\u001b[1;32m    227\u001b[0m \u001b[38;5;66;03m# We need to use object.__setattr__ because we overwrite __setattr__ on\u001b[39;00m\n\u001b[1;32m    228\u001b[0m \u001b[38;5;66;03m# NDFrame\u001b[39;00m\n\u001b[1;32m    229\u001b[0m \u001b[38;5;28mobject\u001b[39m\u001b[38;5;241m.\u001b[39m\u001b[38;5;21m__setattr__\u001b[39m(obj, \u001b[38;5;28mself\u001b[39m\u001b[38;5;241m.\u001b[39m_name, accessor_obj)\n",
      "File \u001b[0;32m/opt/anaconda3/lib/python3.11/site-packages/pandas/core/strings/accessor.py:190\u001b[0m, in \u001b[0;36mStringMethods.__init__\u001b[0;34m(self, data)\u001b[0m\n\u001b[1;32m    187\u001b[0m \u001b[38;5;28;01mdef\u001b[39;00m \u001b[38;5;21m__init__\u001b[39m(\u001b[38;5;28mself\u001b[39m, data) \u001b[38;5;241m-\u001b[39m\u001b[38;5;241m>\u001b[39m \u001b[38;5;28;01mNone\u001b[39;00m:\n\u001b[1;32m    188\u001b[0m     \u001b[38;5;28;01mfrom\u001b[39;00m \u001b[38;5;21;01mpandas\u001b[39;00m\u001b[38;5;21;01m.\u001b[39;00m\u001b[38;5;21;01mcore\u001b[39;00m\u001b[38;5;21;01m.\u001b[39;00m\u001b[38;5;21;01marrays\u001b[39;00m\u001b[38;5;21;01m.\u001b[39;00m\u001b[38;5;21;01mstring_\u001b[39;00m \u001b[38;5;28;01mimport\u001b[39;00m StringDtype\n\u001b[0;32m--> 190\u001b[0m     \u001b[38;5;28mself\u001b[39m\u001b[38;5;241m.\u001b[39m_inferred_dtype \u001b[38;5;241m=\u001b[39m \u001b[38;5;28mself\u001b[39m\u001b[38;5;241m.\u001b[39m_validate(data)\n\u001b[1;32m    191\u001b[0m     \u001b[38;5;28mself\u001b[39m\u001b[38;5;241m.\u001b[39m_is_categorical \u001b[38;5;241m=\u001b[39m \u001b[38;5;28misinstance\u001b[39m(data\u001b[38;5;241m.\u001b[39mdtype, CategoricalDtype)\n\u001b[1;32m    192\u001b[0m     \u001b[38;5;28mself\u001b[39m\u001b[38;5;241m.\u001b[39m_is_string \u001b[38;5;241m=\u001b[39m \u001b[38;5;28misinstance\u001b[39m(data\u001b[38;5;241m.\u001b[39mdtype, StringDtype)\n",
      "File \u001b[0;32m/opt/anaconda3/lib/python3.11/site-packages/pandas/core/strings/accessor.py:244\u001b[0m, in \u001b[0;36mStringMethods._validate\u001b[0;34m(data)\u001b[0m\n\u001b[1;32m    241\u001b[0m inferred_dtype \u001b[38;5;241m=\u001b[39m lib\u001b[38;5;241m.\u001b[39minfer_dtype(values, skipna\u001b[38;5;241m=\u001b[39m\u001b[38;5;28;01mTrue\u001b[39;00m)\n\u001b[1;32m    243\u001b[0m \u001b[38;5;28;01mif\u001b[39;00m inferred_dtype \u001b[38;5;129;01mnot\u001b[39;00m \u001b[38;5;129;01min\u001b[39;00m allowed_types:\n\u001b[0;32m--> 244\u001b[0m     \u001b[38;5;28;01mraise\u001b[39;00m \u001b[38;5;167;01mAttributeError\u001b[39;00m(\u001b[38;5;124m\"\u001b[39m\u001b[38;5;124mCan only use .str accessor with string values!\u001b[39m\u001b[38;5;124m\"\u001b[39m)\n\u001b[1;32m    245\u001b[0m \u001b[38;5;28;01mreturn\u001b[39;00m inferred_dtype\n",
      "\u001b[0;31mAttributeError\u001b[0m: Can only use .str accessor with string values!"
     ]
    }
   ],
   "source": [
    "join_filtered_df.loc[:,\"timestamp\"] = pd.to_datetime(join_filtered_df[\"timestamp\"].str.slice(0, 19))"
   ]
  },
  {
   "cell_type": "code",
   "execution_count": 111,
   "id": "026f7e33",
   "metadata": {},
   "outputs": [],
   "source": [
    "join_filtered_df.loc[:,'day_of_week'] = join_filtered_df['timestamp'].dt.day_name()\n",
    "join_filtered_df.loc[:,'hour_of_day'] = join_filtered_df['timestamp'].dt.hour\n",
    "join_filtered_df.loc[:,'month_of_year'] = join_filtered_df['timestamp'].dt.month"
   ]
  },
  {
   "cell_type": "code",
   "execution_count": 101,
   "id": "f034bc88",
   "metadata": {},
   "outputs": [],
   "source": [
    "join_filtered_df[\"season\"] = join_filtered_df[\"timestamp\"].apply(get_season)"
   ]
  },
  {
   "cell_type": "code",
   "execution_count": 103,
   "id": "2c071c62",
   "metadata": {},
   "outputs": [],
   "source": [
    "# create a weighted index popularity_index = (likesCount * 0.7) + (commentsCount * 0.3)\n",
    "join_filtered_df['popularity_index'] = (join_filtered_df['likesCount'] * .7) + (join_filtered_df['commentsCount'] *.3)"
   ]
  },
  {
   "cell_type": "code",
   "execution_count": 115,
   "id": "97695f89",
   "metadata": {},
   "outputs": [
    {
     "name": "stdout",
     "output_type": "stream",
     "text": [
      "<class 'pandas.core.frame.DataFrame'>\n",
      "Index: 4132 entries, 0 to 4146\n",
      "Data columns (total 17 columns):\n",
      " #   Column            Non-Null Count  Dtype         \n",
      "---  ------            --------------  -----         \n",
      " 0   caption           4132 non-null   object        \n",
      " 1   commentsCount     4132 non-null   int64         \n",
      " 2   dimensionsHeight  4132 non-null   int64         \n",
      " 3   dimensionsWidth   4132 non-null   int64         \n",
      " 4   hashtags/0        4132 non-null   object        \n",
      " 5   hashtags/1        4132 non-null   object        \n",
      " 6   hashtags/2        4132 non-null   object        \n",
      " 7   likesCount        4132 non-null   float64       \n",
      " 8   ownerId           4132 non-null   int64         \n",
      " 9   productType       4132 non-null   object        \n",
      " 10  timestamp         4132 non-null   datetime64[ns]\n",
      " 11  type              4132 non-null   object        \n",
      " 12  day_of_week       4132 non-null   object        \n",
      " 13  popularity_index  4132 non-null   float64       \n",
      " 14  season            4132 non-null   object        \n",
      " 15  hour_of_day       4132 non-null   int32         \n",
      " 16  month_of_year     4132 non-null   int32         \n",
      "dtypes: datetime64[ns](1), float64(2), int32(2), int64(4), object(8)\n",
      "memory usage: 677.8+ KB\n"
     ]
    }
   ],
   "source": [
    "join_filtered_df.info()"
   ]
  },
  {
   "cell_type": "code",
   "execution_count": 114,
   "id": "0748867a",
   "metadata": {},
   "outputs": [],
   "source": [
    "join_filtered_df.drop(['hour_of_week','month_of_week'], axis=1,inplace=True)"
   ]
  },
  {
   "cell_type": "markdown",
   "id": "8513b344",
   "metadata": {},
   "source": [
    "# Save filtered DF"
   ]
  },
  {
   "cell_type": "code",
   "execution_count": 51,
   "id": "43eaa405",
   "metadata": {},
   "outputs": [],
   "source": [
    "join_df.to_csv('filtered_IG_data7.csv')"
   ]
  },
  {
   "cell_type": "markdown",
   "id": "2e5931d7",
   "metadata": {},
   "source": [
    "# Visuals"
   ]
  },
  {
   "cell_type": "code",
   "execution_count": null,
   "id": "b9137fd1",
   "metadata": {},
   "outputs": [],
   "source": [
    "filtered_df.info()"
   ]
  },
  {
   "cell_type": "code",
   "execution_count": null,
   "id": "29766356",
   "metadata": {},
   "outputs": [],
   "source": [
    "filtered_df.columns"
   ]
  },
  {
   "cell_type": "code",
   "execution_count": 107,
   "id": "3aa4391a",
   "metadata": {},
   "outputs": [],
   "source": [
    "# Filter the DataFrame where commentsCount is less than 60,000\n",
    "filtered_data = filtered_df[filtered_df['commentsCount'] < 6000]"
   ]
  },
  {
   "cell_type": "code",
   "execution_count": 108,
   "id": "f66459bf",
   "metadata": {},
   "outputs": [
    {
     "name": "stderr",
     "output_type": "stream",
     "text": [
      "/opt/anaconda3/lib/python3.11/site-packages/seaborn/_oldcore.py:1119: FutureWarning: use_inf_as_na option is deprecated and will be removed in a future version. Convert inf values to NaN before operating instead.\n",
      "  with pd.option_context('mode.use_inf_as_na', True):\n",
      "/opt/anaconda3/lib/python3.11/site-packages/seaborn/_oldcore.py:1119: FutureWarning: use_inf_as_na option is deprecated and will be removed in a future version. Convert inf values to NaN before operating instead.\n",
      "  with pd.option_context('mode.use_inf_as_na', True):\n"
     ]
    },
    {
     "data": {
      "text/plain": [
       "<seaborn.axisgrid.PairGrid at 0x15af1db50>"
      ]
     },
     "execution_count": 108,
     "metadata": {},
     "output_type": "execute_result"
    },
    {
     "data": {
      "image/png": "[encoded data removed]",
      "text/plain": [
       "<Figure size 608.75x500 with 6 Axes>"
      ]
     },
     "metadata": {},
     "output_type": "display_data"
    }
   ],
   "source": [
    "#Create a pair plot of which shows the distribution of seasons to comments and likes count \n",
    "sns.pairplot(filtered_data[['season', 'commentsCount', 'likesCount']], hue = 'season')"
   ]
  },
  {
   "cell_type": "code",
   "execution_count": 23,
   "id": "f5e608f7",
   "metadata": {},
   "outputs": [
    {
     "data": {
      "text/plain": [
       "<Axes: xlabel='timestamp'>"
      ]
     },
     "execution_count": 23,
     "metadata": {},
     "output_type": "execute_result"
    },
    {
     "data": {
      "image/png": "[encoded data removed]",
      "text/plain": [
       "<Figure size 640x480 with 1 Axes>"
      ]
     },
     "metadata": {},
     "output_type": "display_data"
    },
    {
     "data": {
      "image/png": "[encoded data removed]",
      "text/plain": [
       "<Figure size 640x480 with 1 Axes>"
      ]
     },
     "metadata": {},
     "output_type": "display_data"
    }
   ],
   "source": [
    "#create a line plot that shows the amount of likes throughout the year and the comments throughout the year\n",
    "filtered_df.plot(kind='line', x = 'timestamp', y = ['commentsCount', 'likesCount'])\n",
    "filtered_df.plot(kind='line', x = 'timestamp', y = 'commentsCount')"
   ]
  },
  {
   "cell_type": "code",
   "execution_count": 109,
   "id": "c90eac93",
   "metadata": {},
   "outputs": [
    {
     "data": {
      "text/plain": [
       "<BarContainer object of 84 artists>"
      ]
     },
     "execution_count": 109,
     "metadata": {},
     "output_type": "execute_result"
    },
    {
     "name": "stderr",
     "output_type": "stream",
     "text": [
      "/opt/anaconda3/lib/python3.11/site-packages/IPython/core/events.py:82: UserWarning: Glyph 44620 (\\N{HANGUL SYLLABLE GGA}) missing from current font.\n",
      "  func(*args, **kwargs)\n",
      "/opt/anaconda3/lib/python3.11/site-packages/IPython/core/events.py:82: UserWarning: Glyph 49472 (\\N{HANGUL SYLLABLE SEL}) missing from current font.\n",
      "  func(*args, **kwargs)\n",
      "/opt/anaconda3/lib/python3.11/site-packages/IPython/core/events.py:82: UserWarning: Glyph 51228 (\\N{HANGUL SYLLABLE JE}) missing from current font.\n",
      "  func(*args, **kwargs)\n",
      "/opt/anaconda3/lib/python3.11/site-packages/IPython/core/events.py:82: UserWarning: Glyph 54408 (\\N{HANGUL SYLLABLE PUM}) missing from current font.\n",
      "  func(*args, **kwargs)\n",
      "/opt/anaconda3/lib/python3.11/site-packages/IPython/core/events.py:82: UserWarning: Glyph 44277 (\\N{HANGUL SYLLABLE GONG}) missing from current font.\n",
      "  func(*args, **kwargs)\n",
      "/opt/anaconda3/lib/python3.11/site-packages/IPython/core/events.py:82: UserWarning: Glyph 48660 (\\N{HANGUL SYLLABLE BEUL}) missing from current font.\n",
      "  func(*args, **kwargs)\n",
      "/opt/anaconda3/lib/python3.11/site-packages/IPython/core/events.py:82: UserWarning: Glyph 46993 (\\N{HANGUL SYLLABLE RANG}) missing from current font.\n",
      "  func(*args, **kwargs)\n",
      "/opt/anaconda3/lib/python3.11/site-packages/IPython/core/pylabtools.py:152: UserWarning: Glyph 44620 (\\N{HANGUL SYLLABLE GGA}) missing from current font.\n",
      "  fig.canvas.print_figure(bytes_io, **kw)\n",
      "/opt/anaconda3/lib/python3.11/site-packages/IPython/core/pylabtools.py:152: UserWarning: Glyph 49472 (\\N{HANGUL SYLLABLE SEL}) missing from current font.\n",
      "  fig.canvas.print_figure(bytes_io, **kw)\n",
      "/opt/anaconda3/lib/python3.11/site-packages/IPython/core/pylabtools.py:152: UserWarning: Glyph 51228 (\\N{HANGUL SYLLABLE JE}) missing from current font.\n",
      "  fig.canvas.print_figure(bytes_io, **kw)\n",
      "/opt/anaconda3/lib/python3.11/site-packages/IPython/core/pylabtools.py:152: UserWarning: Glyph 54408 (\\N{HANGUL SYLLABLE PUM}) missing from current font.\n",
      "  fig.canvas.print_figure(bytes_io, **kw)\n",
      "/opt/anaconda3/lib/python3.11/site-packages/IPython/core/pylabtools.py:152: UserWarning: Glyph 44277 (\\N{HANGUL SYLLABLE GONG}) missing from current font.\n",
      "  fig.canvas.print_figure(bytes_io, **kw)\n",
      "/opt/anaconda3/lib/python3.11/site-packages/IPython/core/pylabtools.py:152: UserWarning: Glyph 48660 (\\N{HANGUL SYLLABLE BEUL}) missing from current font.\n",
      "  fig.canvas.print_figure(bytes_io, **kw)\n",
      "/opt/anaconda3/lib/python3.11/site-packages/IPython/core/pylabtools.py:152: UserWarning: Glyph 46993 (\\N{HANGUL SYLLABLE RANG}) missing from current font.\n",
      "  fig.canvas.print_figure(bytes_io, **kw)\n"
     ]
    },
    {
     "data": {
      "image/png": "[encoded data removed]",
      "text/plain": [
       "<Figure size 1200x1000 with 1 Axes>"
      ]
     },
     "metadata": {},
     "output_type": "display_data"
    }
   ],
   "source": [
    "#create a bar plot to show the amount of hashtags used\n",
    "hashtag_count = filtered_df['hashtags/0'].value_counts()\n",
    "hashtag_count1 = hashtag_count[hashtag_count > 5]\n",
    "plt.figure(figsize=(12,10))\n",
    "plt.barh( hashtag_count1.index,  hashtag_count1.values)"
   ]
  },
  {
   "cell_type": "code",
   "execution_count": 110,
   "id": "60a9d472",
   "metadata": {},
   "outputs": [
    {
     "data": {
      "text/plain": [
       "<Axes: xlabel='season', ylabel='commentsCount'>"
      ]
     },
     "execution_count": 110,
     "metadata": {},
     "output_type": "execute_result"
    },
    {
     "data": {
      "image/png": "[encoded data removed]",
      "text/plain": [
       "<Figure size 640x480 with 1 Axes>"
      ]
     },
     "metadata": {},
     "output_type": "display_data"
    }
   ],
   "source": [
    "#create a boxplot of likes and comments through the seasons.\n",
    "#sns.boxplot(x = filtered_df['season'], y = filtered_df['likesCount'])\n",
    "\n",
    "# Create a boxplot for likes and comments through the seasons\n",
    "sns.boxplot(x=filtered_data['season'], y=filtered_data['commentsCount'])"
   ]
  },
  {
   "cell_type": "code",
   "execution_count": null,
   "id": "fc30e265",
   "metadata": {},
   "outputs": [],
   "source": []
  }
 ],
 "metadata": {
  "kernelspec": {
   "display_name": "Python 3 (ipykernel)",
   "language": "python",
   "name": "python3"
  },
  "language_info": {
   "codemirror_mode": {
    "name": "ipython",
    "version": 3
   },
   "file_extension": ".py",
   "mimetype": "text/x-python",
   "name": "python",
   "nbconvert_exporter": "python",
   "pygments_lexer": "ipython3",
   "version": "3.11.7"
  }
 },
 "nbformat": 4,
 "nbformat_minor": 5
}
